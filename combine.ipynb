{
 "cells": [
  {
   "cell_type": "code",
   "execution_count": 54,
   "id": "000171fe",
   "metadata": {},
   "outputs": [],
   "source": [
    "import cv2\n",
    "import numpy as np\n",
    "import matplotlib.pyplot as plt\n",
    "\n",
    "data_folder = \"data/\"\n",
    "unity_video_folder = \"unity_video/\""
   ]
  },
  {
   "cell_type": "code",
   "execution_count": null,
   "id": "aeac733d",
   "metadata": {},
   "outputs": [],
   "source": [
    "video = cv2.VideoCapture(unity_video_folder + \"movie_022.mp4\")\n",
    "image = cv2.imread(data_folder + \"20210401_clip_0_0000_img_5.jpg\")\n",
    "image = cv2.cvtColor(image, cv2.COLOR_BGR2GRAY)\n",
    "\n",
    "new_video = []\n",
    "\n",
    "for i in range(int(video.get(cv2.CAP_PROP_FRAME_COUNT))):\n",
    "    ret, frame = video.read()\n",
    "    \n",
    "    subtract = int((frame.shape[1] - ((image.shape[1]/image.shape[0])*frame.shape[0]))/2)\n",
    "    \n",
    "    u_green = np.array([100, 255, 100])\n",
    "    l_green = np.array([0, 100, 0])\n",
    "    \n",
    "    mask = cv2.inRange(frame, l_green, u_green)\n",
    "    mask = cv2.blur(mask, (10, 10)) # Maybe change to use guarsian filter\n",
    "    mask = mask[:,subtract:-subtract]\n",
    "    mask = cv2.resize(mask, (384, 288))\n",
    "    \n",
    "    frame = cv2.blur(frame, (10, 10)) # Maybe change to use guarsian filter\n",
    "    frame = frame[:,subtract:-subtract]\n",
    "    frame = cv2.resize(frame, (384, 288))\n",
    "    \n",
    "    f = np.array(image * (mask/255) + cv2.cvtColor(frame, cv2.COLOR_BGR2GRAY) * (np.ones((288, 384)) - (mask/255)), dtype='uint8')\n",
    "    \n",
    "    cv2.imshow(\"video\", frame)\n",
    "    cv2.imshow(\"mask\", mask)\n",
    "    cv2.imshow(\"unity\", f)\n",
    "    \n",
    "    new_video.append(f)\n",
    " \n",
    "    if cv2.waitKey(25) == 27:\n",
    "        break\n",
    "\n",
    "new_video = np.array(new_video)\n",
    "print(new_video.shape)\n",
    "        \n",
    "video.release()\n",
    "cv2.destroyAllWindows()"
   ]
  },
  {
   "cell_type": "code",
   "execution_count": null,
   "id": "8f0b0eb7",
   "metadata": {},
   "outputs": [],
   "source": [
    "size = 288, 384\n",
    "\n",
    "fps = 30\n",
    "                       \n",
    "out = cv2.VideoWriter('output_blur_10.mp4', cv2.VideoWriter_fourcc(*'mp4v'), fps, (size[1], size[0]), False)\n",
    "for frame in new_video:\n",
    "    data = np.random.randint(0, 256, size, dtype='uint8')\n",
    "    out.write(frame)\n",
    "out.release()"
   ]
  },
  {
   "cell_type": "code",
   "execution_count": null,
   "id": "37034a1a",
   "metadata": {},
   "outputs": [],
   "source": []
  },
  {
   "cell_type": "code",
   "execution_count": null,
   "id": "9fa3f186",
   "metadata": {},
   "outputs": [],
   "source": []
  }
 ],
 "metadata": {
  "kernelspec": {
   "display_name": "Python 3",
   "language": "python",
   "name": "python3"
  },
  "language_info": {
   "codemirror_mode": {
    "name": "ipython",
    "version": 3
   },
   "file_extension": ".py",
   "mimetype": "text/x-python",
   "name": "python",
   "nbconvert_exporter": "python",
   "pygments_lexer": "ipython3",
   "version": "3.8.11"
  }
 },
 "nbformat": 4,
 "nbformat_minor": 5
}
